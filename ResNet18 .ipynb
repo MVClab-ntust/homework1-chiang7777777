{
 "cells": [
  {
   "cell_type": "code",
   "execution_count": 1,
   "metadata": {
    "colab": {},
    "colab_type": "code",
    "executionInfo": {
     "elapsed": 5943,
     "status": "ok",
     "timestamp": 1600925476815,
     "user": {
      "displayName": "ChingI Lee",
      "photoUrl": "https://lh3.googleusercontent.com/a-/AOh14GgDdMJrUbQatXDhq6lGSnmXrmVgJ5j16hylgay6-zE=s64",
      "userId": "03381739445029229035"
     },
     "user_tz": -480
    },
    "id": "EJmeSg7lsSWv"
   },
   "outputs": [],
   "source": [
    "import torch\n",
    "import torch.nn as nn\n",
    "import torch.nn.functional as F\n",
    "import torch.optim as optim\n",
    "from torch.utils.data import DataLoader\n",
    "from torch.autograd import Variable\n",
    "from torchvision import datasets, transforms\n",
    "from tqdm.notebook import tqdm"
   ]
  },
  {
   "cell_type": "code",
   "execution_count": 2,
   "metadata": {
    "colab": {
     "base_uri": "https://localhost:8080/",
     "height": 34
    },
    "colab_type": "code",
    "executionInfo": {
     "elapsed": 2223,
     "status": "ok",
     "timestamp": 1600925477925,
     "user": {
      "displayName": "ChingI Lee",
      "photoUrl": "https://lh3.googleusercontent.com/a-/AOh14GgDdMJrUbQatXDhq6lGSnmXrmVgJ5j16hylgay6-zE=s64",
      "userId": "03381739445029229035"
     },
     "user_tz": -480
    },
    "id": "oCdpr3igsXsI",
    "outputId": "11747e0e-9945-4a17-f0ae-715b27156536"
   },
   "outputs": [
    {
     "name": "stdout",
     "output_type": "stream",
     "text": [
      "cuda:0\n"
     ]
    }
   ],
   "source": [
    "device = torch.device('cuda:0' if torch.cuda.is_available() else 'cpu')\n",
    "print(device)"
   ]
  },
  {
   "cell_type": "code",
   "execution_count": 10,
   "metadata": {},
   "outputs": [
    {
     "name": "stderr",
     "output_type": "stream",
     "text": [
      "Failed to detect the name of this notebook, you can set it manually with the WANDB_NOTEBOOK_NAME environment variable to enable code saving.\n",
      "\u001b[34m\u001b[1mwandb\u001b[0m: Currently logged in as: \u001b[33mchris30252\u001b[0m (\u001b[33mchiang777\u001b[0m). Use \u001b[1m`wandb login --relogin`\u001b[0m to force relogin\n"
     ]
    },
    {
     "data": {
      "text/html": [
       "Tracking run with wandb version 0.16.6"
      ],
      "text/plain": [
       "<IPython.core.display.HTML object>"
      ]
     },
     "metadata": {},
     "output_type": "display_data"
    },
    {
     "data": {
      "text/html": [
       "Run data is saved locally in <code>c:\\My_Space\\Lab\\新生課程\\W1\\ResNet18\\wandb\\run-20240429_182057-p2kqr0hn</code>"
      ],
      "text/plain": [
       "<IPython.core.display.HTML object>"
      ]
     },
     "metadata": {},
     "output_type": "display_data"
    },
    {
     "data": {
      "text/html": [
       "Syncing run <strong><a href='https://wandb.ai/chiang777/ResNet-18/runs/p2kqr0hn' target=\"_blank\">upbeat-water-3</a></strong> to <a href='https://wandb.ai/chiang777/ResNet-18' target=\"_blank\">Weights & Biases</a> (<a href='https://wandb.me/run' target=\"_blank\">docs</a>)<br/>"
      ],
      "text/plain": [
       "<IPython.core.display.HTML object>"
      ]
     },
     "metadata": {},
     "output_type": "display_data"
    },
    {
     "data": {
      "text/html": [
       " View project at <a href='https://wandb.ai/chiang777/ResNet-18' target=\"_blank\">https://wandb.ai/chiang777/ResNet-18</a>"
      ],
      "text/plain": [
       "<IPython.core.display.HTML object>"
      ]
     },
     "metadata": {},
     "output_type": "display_data"
    },
    {
     "data": {
      "text/html": [
       " View run at <a href='https://wandb.ai/chiang777/ResNet-18/runs/p2kqr0hn' target=\"_blank\">https://wandb.ai/chiang777/ResNet-18/runs/p2kqr0hn</a>"
      ],
      "text/plain": [
       "<IPython.core.display.HTML object>"
      ]
     },
     "metadata": {},
     "output_type": "display_data"
    },
    {
     "data": {
      "text/html": [
       "<button onClick=\"this.nextSibling.style.display='block';this.style.display='none';\">Display W&B run</button><iframe src='https://wandb.ai/chiang777/ResNet-18/runs/p2kqr0hn?jupyter=true' style='border:none;width:100%;height:420px;display:none;'></iframe>"
      ],
      "text/plain": [
       "<wandb.sdk.wandb_run.Run at 0x1edd28311d0>"
      ]
     },
     "execution_count": 10,
     "metadata": {},
     "output_type": "execute_result"
    }
   ],
   "source": [
    "import wandb\n",
    "\n",
    "wandb.login()\n",
    "\n",
    "wandb.init(\n",
    "    # set the wandb project where this run will be logged\n",
    "    project=\"ResNet-18\",\n",
    "\n",
    "    # track hyperparameters and run metadata\n",
    "    config={\n",
    "    \"learning_rate\": 0.001,\n",
    "    \"architecture\": \"ResNet-18\",\n",
    "    \"dataset\": \"CIFAR-100\",\n",
    "    \"epochs\": 10,\n",
    "    }\n",
    ")"
   ]
  },
  {
   "cell_type": "code",
   "execution_count": 3,
   "metadata": {
    "colab": {},
    "colab_type": "code",
    "executionInfo": {
     "elapsed": 1679,
     "status": "ok",
     "timestamp": 1600925480631,
     "user": {
      "displayName": "ChingI Lee",
      "photoUrl": "https://lh3.googleusercontent.com/a-/AOh14GgDdMJrUbQatXDhq6lGSnmXrmVgJ5j16hylgay6-zE=s64",
      "userId": "03381739445029229035"
     },
     "user_tz": -480
    },
    "id": "_PKKfZ9UsXuQ"
   },
   "outputs": [],
   "source": [
    "class ResidualBlock(nn.Module):\n",
    "    def __init__(self, in_channels, out_channels, stride, downsample):\n",
    "        super(ResidualBlock, self).__init__()      \n",
    "        self.conv1 = nn.Conv2d(in_channels=in_channels, out_channels=out_channels, kernel_size=3, stride=stride, padding=1, bias=False)\n",
    "        self.bn1 = nn.BatchNorm2d(out_channels)\n",
    "        self.relu = nn.ReLU(inplace=True)\n",
    "        self.conv2 = nn.Conv2d(in_channels=out_channels, out_channels=out_channels, kernel_size=3, stride=1, padding=1, bias=False)\n",
    "        self.bn2 = nn.BatchNorm2d(out_channels)\n",
    "\n",
    "        # for shortcut , convert dimensions\n",
    "        self.downsample = downsample \n",
    "\n",
    "\n",
    "    def forward(self, x):\n",
    "        residual = x\n",
    "\n",
    "        out = self.conv1(x)\n",
    "        out = self.bn1(out)\n",
    "        out = self.relu(out)\n",
    "        out = self.conv2(out)\n",
    "        out = self.bn2(out)\n",
    "\n",
    "        if self.downsample is not None:\n",
    "            residual = self.downsample(x)\n",
    "\n",
    "        out += residual\n",
    "        out = self.relu(out)\n",
    "\n",
    "        return out"
   ]
  },
  {
   "cell_type": "code",
   "execution_count": 4,
   "metadata": {
    "colab": {},
    "colab_type": "code",
    "executionInfo": {
     "elapsed": 992,
     "status": "ok",
     "timestamp": 1600925721350,
     "user": {
      "displayName": "ChingI Lee",
      "photoUrl": "https://lh3.googleusercontent.com/a-/AOh14GgDdMJrUbQatXDhq6lGSnmXrmVgJ5j16hylgay6-zE=s64",
      "userId": "03381739445029229035"
     },
     "user_tz": -480
    },
    "id": "a_nRKnWHv8tn"
   },
   "outputs": [],
   "source": [
    "class ResNet(nn.Module):\n",
    "    def __init__(self, net_block, layers, num_classes):\n",
    "        super(ResNet, self).__init__()\n",
    "        self.in_channels = 64\n",
    "        self.conv1 = nn.Conv2d(in_channels=3, out_channels=64, kernel_size=7, stride=2, padding=3, bias=False)\n",
    "        self.bn1 = nn.BatchNorm2d(64)\n",
    "        self.relu = nn.ReLU(inplace=True)\n",
    "        self.maxpooling = nn.MaxPool2d(kernel_size=3, stride=2, padding=1)\n",
    "\n",
    "        self.layer1 = self.net_block_layer(net_block, 64, layers[0])\n",
    "        self.layer2 = self.net_block_layer(net_block, 128, layers[1], stride=2)\n",
    "        self.layer3 = self.net_block_layer(net_block, 256, layers[2], stride=2)\n",
    "        self.layer4 = self.net_block_layer(net_block, 512, layers[3], stride=2)\n",
    "\n",
    "        self.avgpooling = nn.AvgPool2d(7, stride=1)\n",
    "        self.fc = nn.Linear(512, num_classes)\n",
    "\n",
    "        # parameter init\n",
    "        for m in self.modules():\n",
    "            if isinstance(m, nn.Conv2d):\n",
    "                nn.init.kaiming_normal_(m.weight, mode=\"fan_out\", nonlinearity=\"relu\")\n",
    "\n",
    "            elif isinstance(m, nn.BatchNorm2d):\n",
    "                nn.init.constant_(m.weight, 1)\n",
    "                nn.init.constant_(m.bias, 0)        \n",
    "\n",
    "    def net_block_layer(self, net_block, out_channels, num_blocks, stride=1):\n",
    "        downsample = None\n",
    "\n",
    "        # for shortcut , convert dimensions\n",
    "        if stride != 1 or self.in_channels != out_channels:\n",
    "            downsample = nn.Sequential(nn.Conv2d(self.in_channels, out_channels, kernel_size=1, stride=stride, bias=False),\n",
    "                        nn.BatchNorm2d(out_channels))\n",
    "\n",
    "        layers = []\n",
    "        layers.append(net_block(self.in_channels, out_channels, stride, downsample))\n",
    "\n",
    "        self.in_channels = out_channels\n",
    "\n",
    "        for i in range(1, num_blocks):\n",
    "            layers.append(net_block(self.in_channels, out_channels, 1, None))\n",
    "\n",
    "        return nn.Sequential(*layers)\n",
    "\n",
    "    def forward(self, x):\n",
    "        x = self.conv1(x)\n",
    "        x = self.bn1(x)\n",
    "        x = self.relu(x)\n",
    "        x = self.maxpooling(x)\n",
    "        x = self.layer1(x)\n",
    "        x = self.layer2(x)\n",
    "        x = self.layer3(x)\n",
    "        x = self.layer4(x)\n",
    "        x = self.avgpooling(x)\n",
    "        x = torch.flatten(x, start_dim=1)\n",
    "        x = self.fc(x)\n",
    "\n",
    "        return x"
   ]
  },
  {
   "cell_type": "code",
   "execution_count": 5,
   "metadata": {
    "colab": {},
    "colab_type": "code",
    "executionInfo": {
     "elapsed": 997,
     "status": "ok",
     "timestamp": 1600925724346,
     "user": {
      "displayName": "ChingI Lee",
      "photoUrl": "https://lh3.googleusercontent.com/a-/AOh14GgDdMJrUbQatXDhq6lGSnmXrmVgJ5j16hylgay6-zE=s64",
      "userId": "03381739445029229035"
     },
     "user_tz": -480
    },
    "id": "hNPRWV2Kv8wV"
   },
   "outputs": [],
   "source": [
    "# Parameters\n",
    "batch_size = 64\n",
    "num_epochs = 10\n",
    "lr = 0.001\n",
    "\n",
    "num_classes = 100\n",
    "\n",
    "# ResNet18\n",
    "model = ResNet(ResidualBlock, [2, 2, 2, 2], num_classes)\n",
    "\n",
    "if torch.cuda.is_available():\n",
    "    model = model.cuda()\n",
    "\n",
    "criterion = nn.CrossEntropyLoss()\n",
    "optimizer = optim.SGD(model.parameters(), lr=0.01, momentum=0.9)"
   ]
  },
  {
   "cell_type": "code",
   "execution_count": 6,
   "metadata": {
    "colab": {},
    "colab_type": "code",
    "executionInfo": {
     "elapsed": 1030,
     "status": "ok",
     "timestamp": 1600925728339,
     "user": {
      "displayName": "ChingI Lee",
      "photoUrl": "https://lh3.googleusercontent.com/a-/AOh14GgDdMJrUbQatXDhq6lGSnmXrmVgJ5j16hylgay6-zE=s64",
      "userId": "03381739445029229035"
     },
     "user_tz": -480
    },
    "id": "Lt9jqPnqO1-p"
   },
   "outputs": [
    {
     "name": "stdout",
     "output_type": "stream",
     "text": [
      "Downloading https://www.cs.toronto.edu/~kriz/cifar-100-python.tar.gz to ./data\\cifar-100-python.tar.gz\n"
     ]
    },
    {
     "name": "stderr",
     "output_type": "stream",
     "text": [
      "100%|██████████| 169001437/169001437 [03:42<00:00, 760250.21it/s] \n"
     ]
    },
    {
     "name": "stdout",
     "output_type": "stream",
     "text": [
      "Extracting ./data\\cifar-100-python.tar.gz to ./data\n",
      "Files already downloaded and verified\n"
     ]
    }
   ],
   "source": [
    "# Transform\n",
    "transform = transforms.Compose(\n",
    "                [transforms.Resize(size=(227,227)),\n",
    "                 transforms.CenterCrop(224),\n",
    "                 transforms.RandomRotation(20),\n",
    "                  transforms.RandomHorizontalFlip(),\n",
    "                 transforms.ToTensor(),\n",
    "                transforms.Normalize((0.5,), (0.5,)),]\n",
    "                )\n",
    "\n",
    "full_dataset = datasets.CIFAR100(root='./data', train=True, download=True, transform = transform)\n",
    "\n",
    "# trainset : validset = 4:1 \n",
    "train_set, valid_set = torch.utils.data.random_split(\n",
    "                        full_dataset,\n",
    "                        lengths=[int(0.8 * len(full_dataset)), len(full_dataset) - int(0.8 * len(full_dataset))])\n",
    "\n",
    "train_loader = DataLoader(train_set, batch_size=batch_size, shuffle=True, num_workers=2)\n",
    "\n",
    "valid_loader = DataLoader(valid_set, batch_size=batch_size, shuffle=True, num_workers=2)\n",
    "\n",
    "test_set = datasets.CIFAR100(root='./data', train=False, download=True, transform = transform)\n",
    "test_loader = DataLoader(test_set, batch_size=batch_size, shuffle=False, num_workers=2)\n"
   ]
  },
  {
   "cell_type": "code",
   "execution_count": 7,
   "metadata": {
    "colab": {},
    "colab_type": "code",
    "executionInfo": {
     "elapsed": 982,
     "status": "ok",
     "timestamp": 1600925773532,
     "user": {
      "displayName": "ChingI Lee",
      "photoUrl": "https://lh3.googleusercontent.com/a-/AOh14GgDdMJrUbQatXDhq6lGSnmXrmVgJ5j16hylgay6-zE=s64",
      "userId": "03381739445029229035"
     },
     "user_tz": -480
    },
    "id": "_ygvkc4uO2A5"
   },
   "outputs": [],
   "source": [
    "\n",
    "def train(train_loader, model, criterion, optimizer, epoch):\n",
    "    model.train()\n",
    "    total_train = 0\n",
    "    correct_train = 0\n",
    "    train_loss = 0\n",
    "    \n",
    "    with tqdm(train_loader) as tepoch:\n",
    "        for batch_idx, (data, target) in enumerate(train_loader):\n",
    "            tepoch.set_description(f\"Train Epoch: {epoch+1}/{num_epochs}\")\n",
    "\n",
    "            data, target = Variable(data), Variable(target) \n",
    "            \n",
    "            if torch.cuda.is_available():\n",
    "                data, target = data.cuda(), target.cuda()\n",
    "\n",
    "            # clear gradient\n",
    "            optimizer.zero_grad()\n",
    "\n",
    "            # Forward propagation\n",
    "            output = model(data) \n",
    "            loss = criterion(output, target) \n",
    "\n",
    "            # wandb 紀錄\n",
    "            wandb.log({\"train_loss\": loss})\n",
    "\n",
    "            # Calculate gradients\n",
    "            loss.backward()\n",
    "\n",
    "            # update progress bar\n",
    "            tepoch.update(1)\n",
    "\n",
    "            # Update parameters\n",
    "            optimizer.step()\n",
    "\n",
    "            predicted = torch.max(output.data, 1)[1]\n",
    "            total_train += len(target)\n",
    "            correct_train += sum((predicted == target).float())\n",
    "            train_loss += loss.item()\n",
    "\n",
    "            # validation\n",
    "            if batch_idx % batch_size == 0:\n",
    "                model.eval()\n",
    "\n",
    "                correct = 0\n",
    "                total = 0\n",
    "                with torch.no_grad():\n",
    "                    for data in valid_loader:\n",
    "                        images, labels = data[0].to(device), data[1].to(device)\n",
    "                        outputs = model(images)\n",
    "                        _, predicted = torch.max(outputs.data, 1)\n",
    "                        total += labels.size(0)\n",
    "                        correct += (predicted == labels).sum().item()\n",
    "                tepoch.set_postfix(accuracy=100 * correct / total)\n",
    "                wandb.log({\"valid_accuracy\": correct/total})\n",
    "                \n",
    "                model.train()\n",
    "            \n",
    "    train_acc_ = 100 * (correct_train / float(total_train))\n",
    "    train_loss_ = train_loss / total_train\n",
    "                    \n",
    "    return train_acc_, train_loss_"
   ]
  },
  {
   "cell_type": "code",
   "execution_count": 8,
   "metadata": {},
   "outputs": [],
   "source": [
    "def test(test_loader, model): \n",
    "    model.eval()\n",
    "    total_test = 0\n",
    "    correct_test = 0\n",
    "    \n",
    "    with torch.no_grad():\n",
    "        with tqdm(test_loader) as tepoch:\n",
    "            tepoch.set_description(f\"Test: \")\n",
    "\n",
    "            for data in test_loader:\n",
    "                images, labels = data[0].to(device), data[1].to(device)\n",
    "                outputs = model(images)\n",
    "                _, predicted = torch.max(outputs.data, 1)\n",
    "                total_test += labels.size(0)\n",
    "                correct_test += (predicted == labels).sum().item()\n",
    "                tepoch.update(1)      \n",
    "            \n",
    "    test_acc_ = 100 * (correct_test / float(total_test))\n",
    "                    \n",
    "    return test_acc_"
   ]
  },
  {
   "cell_type": "code",
   "execution_count": 11,
   "metadata": {
    "colab": {},
    "colab_type": "code",
    "executionInfo": {
     "elapsed": 992,
     "status": "ok",
     "timestamp": 1600925781533,
     "user": {
      "displayName": "ChingI Lee",
      "photoUrl": "https://lh3.googleusercontent.com/a-/AOh14GgDdMJrUbQatXDhq6lGSnmXrmVgJ5j16hylgay6-zE=s64",
      "userId": "03381739445029229035"
     },
     "user_tz": -480
    },
    "id": "U-tN3gb3PPeA"
   },
   "outputs": [
    {
     "data": {
      "application/vnd.jupyter.widget-view+json": {
       "model_id": "1dd330a2b76b484e987d12e8439564d7",
       "version_major": 2,
       "version_minor": 0
      },
      "text/plain": [
       "  0%|          | 0/625 [00:00<?, ?it/s]"
      ]
     },
     "metadata": {},
     "output_type": "display_data"
    },
    {
     "name": "stdout",
     "output_type": "stream",
     "text": [
      "==========================================================================\n",
      "Epoch: 1/10， Train acc： 10.410000， Train loss： 0.060801\n",
      "==========================================================================\n"
     ]
    },
    {
     "data": {
      "application/vnd.jupyter.widget-view+json": {
       "model_id": "cfce30924208463cbd7af7b02004e869",
       "version_major": 2,
       "version_minor": 0
      },
      "text/plain": [
       "  0%|          | 0/625 [00:00<?, ?it/s]"
      ]
     },
     "metadata": {},
     "output_type": "display_data"
    },
    {
     "name": "stdout",
     "output_type": "stream",
     "text": [
      "==========================================================================\n",
      "Epoch: 2/10， Train acc： 20.317499， Train loss： 0.050781\n",
      "==========================================================================\n"
     ]
    },
    {
     "data": {
      "application/vnd.jupyter.widget-view+json": {
       "model_id": "99c59035243643849ec238b41da78332",
       "version_major": 2,
       "version_minor": 0
      },
      "text/plain": [
       "  0%|          | 0/625 [00:00<?, ?it/s]"
      ]
     },
     "metadata": {},
     "output_type": "display_data"
    },
    {
     "name": "stdout",
     "output_type": "stream",
     "text": [
      "==========================================================================\n",
      "Epoch: 3/10， Train acc： 27.772499， Train loss： 0.044633\n",
      "==========================================================================\n"
     ]
    },
    {
     "data": {
      "application/vnd.jupyter.widget-view+json": {
       "model_id": "22f6826067ae461fa6a6f5a231bc4988",
       "version_major": 2,
       "version_minor": 0
      },
      "text/plain": [
       "  0%|          | 0/625 [00:00<?, ?it/s]"
      ]
     },
     "metadata": {},
     "output_type": "display_data"
    },
    {
     "name": "stdout",
     "output_type": "stream",
     "text": [
      "==========================================================================\n",
      "Epoch: 4/10， Train acc： 34.962498， Train loss： 0.038970\n",
      "==========================================================================\n"
     ]
    },
    {
     "data": {
      "application/vnd.jupyter.widget-view+json": {
       "model_id": "e1e18e6fc61b46c4b3f5e108faca8923",
       "version_major": 2,
       "version_minor": 0
      },
      "text/plain": [
       "  0%|          | 0/625 [00:00<?, ?it/s]"
      ]
     },
     "metadata": {},
     "output_type": "display_data"
    },
    {
     "name": "stdout",
     "output_type": "stream",
     "text": [
      "==========================================================================\n",
      "Epoch: 5/10， Train acc： 41.357498， Train loss： 0.034260\n",
      "==========================================================================\n"
     ]
    },
    {
     "data": {
      "application/vnd.jupyter.widget-view+json": {
       "model_id": "9b957cb3971d43bcbc99a5c47c1a2fe0",
       "version_major": 2,
       "version_minor": 0
      },
      "text/plain": [
       "  0%|          | 0/625 [00:00<?, ?it/s]"
      ]
     },
     "metadata": {},
     "output_type": "display_data"
    },
    {
     "name": "stdout",
     "output_type": "stream",
     "text": [
      "==========================================================================\n",
      "Epoch: 6/10， Train acc： 46.102501， Train loss： 0.030713\n",
      "==========================================================================\n"
     ]
    },
    {
     "data": {
      "application/vnd.jupyter.widget-view+json": {
       "model_id": "f6581355f0684fa0adae8c07ef4746e2",
       "version_major": 2,
       "version_minor": 0
      },
      "text/plain": [
       "  0%|          | 0/625 [00:00<?, ?it/s]"
      ]
     },
     "metadata": {},
     "output_type": "display_data"
    },
    {
     "name": "stdout",
     "output_type": "stream",
     "text": [
      "==========================================================================\n",
      "Epoch: 7/10， Train acc： 50.984997， Train loss： 0.027797\n",
      "==========================================================================\n"
     ]
    },
    {
     "data": {
      "application/vnd.jupyter.widget-view+json": {
       "model_id": "10694aeea90c4504b5c46d58c719c159",
       "version_major": 2,
       "version_minor": 0
      },
      "text/plain": [
       "  0%|          | 0/625 [00:00<?, ?it/s]"
      ]
     },
     "metadata": {},
     "output_type": "display_data"
    },
    {
     "name": "stdout",
     "output_type": "stream",
     "text": [
      "==========================================================================\n",
      "Epoch: 8/10， Train acc： 54.482494， Train loss： 0.025404\n",
      "==========================================================================\n"
     ]
    },
    {
     "data": {
      "application/vnd.jupyter.widget-view+json": {
       "model_id": "2ef8aa6de5f449f1a6d749d6ce3bbc4e",
       "version_major": 2,
       "version_minor": 0
      },
      "text/plain": [
       "  0%|          | 0/625 [00:00<?, ?it/s]"
      ]
     },
     "metadata": {},
     "output_type": "display_data"
    },
    {
     "name": "stdout",
     "output_type": "stream",
     "text": [
      "==========================================================================\n",
      "Epoch: 9/10， Train acc： 57.769997， Train loss： 0.023288\n",
      "==========================================================================\n"
     ]
    },
    {
     "data": {
      "application/vnd.jupyter.widget-view+json": {
       "model_id": "c0d89f89623d42838eee34e25d6738e4",
       "version_major": 2,
       "version_minor": 0
      },
      "text/plain": [
       "  0%|          | 0/625 [00:00<?, ?it/s]"
      ]
     },
     "metadata": {},
     "output_type": "display_data"
    },
    {
     "name": "stdout",
     "output_type": "stream",
     "text": [
      "==========================================================================\n",
      "Epoch: 10/10， Train acc： 61.189999， Train loss： 0.021260\n",
      "==========================================================================\n",
      "====== Training END ==========\n"
     ]
    },
    {
     "data": {
      "application/vnd.jupyter.widget-view+json": {
       "model_id": "65c9fd4c130f4fd5a48d7dc79e131b9d",
       "version_major": 2,
       "version_minor": 0
      },
      "text/plain": [
       "  0%|          | 0/157 [00:00<?, ?it/s]"
      ]
     },
     "metadata": {},
     "output_type": "display_data"
    },
    {
     "name": "stdout",
     "output_type": "stream",
     "text": [
      "Test acc： 51.710000\n",
      "====== Test END ==========\n"
     ]
    }
   ],
   "source": [
    "# Train\n",
    "for epoch in range(num_epochs):\n",
    "    # training\n",
    "    train_acc_, train_loss_ = train(train_loader, model, criterion, optimizer, epoch)\n",
    "\n",
    "    print('==========================================================================')\n",
    "    print(\"Epoch: {}/{}， Train acc： {:.6f}， Train loss： {:.6f}\".format(\n",
    "            epoch+1, num_epochs, \n",
    "            train_acc_, train_loss_))\n",
    "    print('==========================================================================')\n",
    "\n",
    "print(\"====== Training END ==========\")\n",
    "\n",
    "# Test\n",
    "test_acc = test(test_loader, model)\n",
    "print(\"Test acc： {:.6f}\".format(test_acc))\n",
    "\n",
    "print(\"====== Test END ==========\")"
   ]
  },
  {
   "cell_type": "code",
   "execution_count": 12,
   "metadata": {},
   "outputs": [
    {
     "data": {
      "application/vnd.jupyter.widget-view+json": {
       "model_id": "b370c77a37b340d188e2a046990dfef5",
       "version_major": 2,
       "version_minor": 0
      },
      "text/plain": [
       "VBox(children=(Label(value='0.001 MB of 0.010 MB uploaded\\r'), FloatProgress(value=0.111593783183705, max=1.0)…"
      ]
     },
     "metadata": {},
     "output_type": "display_data"
    },
    {
     "data": {
      "text/html": [
       "<style>\n",
       "    table.wandb td:nth-child(1) { padding: 0 10px; text-align: left ; width: auto;} td:nth-child(2) {text-align: left ; width: 100%}\n",
       "    .wandb-row { display: flex; flex-direction: row; flex-wrap: wrap; justify-content: flex-start; width: 100% }\n",
       "    .wandb-col { display: flex; flex-direction: column; flex-basis: 100%; flex: 1; padding: 10px; }\n",
       "    </style>\n",
       "<div class=\"wandb-row\"><div class=\"wandb-col\"><h3>Run history:</h3><br/><table class=\"wandb\"><tr><td>train_loss</td><td>█▇▇▆▆▆▅▅▅▅▅▅▄▄▄▄▄▄▃▄▃▃▄▃▂▂▃▃▂▂▂▂▂▂▂▂▁▁▁▁</td></tr><tr><td>valid_accuracy</td><td>▁▂▂▃▃▃▃▄▄▄▄▄▅▅▅▅▆▆▆▆▆▆▆▆▇▇▆▇▇▇▇▇████████</td></tr></table><br/></div><div class=\"wandb-col\"><h3>Run summary:</h3><br/><table class=\"wandb\"><tr><td>train_loss</td><td>1.29343</td></tr><tr><td>valid_accuracy</td><td>0.5414</td></tr></table><br/></div></div>"
      ],
      "text/plain": [
       "<IPython.core.display.HTML object>"
      ]
     },
     "metadata": {},
     "output_type": "display_data"
    },
    {
     "data": {
      "text/html": [
       " View run <strong style=\"color:#cdcd00\">upbeat-water-3</strong> at: <a href='https://wandb.ai/chiang777/ResNet-18/runs/p2kqr0hn' target=\"_blank\">https://wandb.ai/chiang777/ResNet-18/runs/p2kqr0hn</a><br/> View project at: <a href='https://wandb.ai/chiang777/ResNet-18' target=\"_blank\">https://wandb.ai/chiang777/ResNet-18</a><br/>Synced 6 W&B file(s), 0 media file(s), 0 artifact file(s) and 0 other file(s)"
      ],
      "text/plain": [
       "<IPython.core.display.HTML object>"
      ]
     },
     "metadata": {},
     "output_type": "display_data"
    },
    {
     "data": {
      "text/html": [
       "Find logs at: <code>.\\wandb\\run-20240429_182057-p2kqr0hn\\logs</code>"
      ],
      "text/plain": [
       "<IPython.core.display.HTML object>"
      ]
     },
     "metadata": {},
     "output_type": "display_data"
    }
   ],
   "source": [
    "wandb.finish()"
   ]
  }
 ],
 "metadata": {
  "accelerator": "GPU",
  "colab": {
   "authorship_tag": "ABX9TyOufgPlwMiozDe4cPdJfMym",
   "collapsed_sections": [],
   "name": "ResNet.ipynb",
   "provenance": []
  },
  "kernelspec": {
   "display_name": "Python 3",
   "language": "python",
   "name": "python3"
  },
  "language_info": {
   "codemirror_mode": {
    "name": "ipython",
    "version": 3
   },
   "file_extension": ".py",
   "mimetype": "text/x-python",
   "name": "python",
   "nbconvert_exporter": "python",
   "pygments_lexer": "ipython3",
   "version": "3.11.5"
  }
 },
 "nbformat": 4,
 "nbformat_minor": 1
}
